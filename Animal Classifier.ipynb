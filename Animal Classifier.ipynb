{
 "cells": [
  {
   "cell_type": "markdown",
   "metadata": {},
   "source": [
    "# Animal 카테고리 분류기"
   ]
  },
  {
   "cell_type": "markdown",
   "metadata": {},
   "source": [
    "## 분류기를 위한 라이브러리 임포트"
   ]
  },
  {
   "cell_type": "code",
   "execution_count": 47,
   "metadata": {},
   "outputs": [],
   "source": [
    "import joblib\n",
    "import pandas as pd\n",
    "import numpy as np\n",
    "from sklearn.model_selection import train_test_split\n",
    "from sklearn.feature_extraction.text import CountVectorizer, TfidfTransformer\n",
    "from sklearn.pipeline import Pipeline\n",
    "from sklearn.linear_model import SGDClassifier"
   ]
  },
  {
   "cell_type": "markdown",
   "metadata": {},
   "source": [
    "## 학습을 위한 데이터 임포트"
   ]
  },
  {
   "cell_type": "code",
   "execution_count": 29,
   "metadata": {},
   "outputs": [],
   "source": [
    "animal = pd.read_csv(\"animal.csv\")\n",
    "others = pd.read_csv(\"others.csv\").replace(' ','', regex=True).replace(',',' ', regex=True)"
   ]
  },
  {
   "cell_type": "markdown",
   "metadata": {},
   "source": [
    "## 상위 데이터만 보기"
   ]
  },
  {
   "cell_type": "code",
   "execution_count": 30,
   "metadata": {},
   "outputs": [
    {
     "name": "stdout",
     "output_type": "stream",
     "text": [
      "0    Tiger Mammal Wildlife Vertebrate Bengaltiger T...\n",
      "1    Cat Mammal Vertebrate Smalltomedium-sizedcats ...\n",
      "2    Terrestrialanimal Mammal Vertebrate Wildlife L...\n",
      "Name: labels, dtype: object\n",
      "0                 Finger Skin Hand Nail Thumb Gesture \n",
      "1    Face Eyebrow Lip Hair Nose Skin Cheek Eye Beau...\n",
      "2    Athlete Leg Sports Thigh Sportvenue Sprint Tra...\n",
      "Name: labels, dtype: object\n"
     ]
    }
   ],
   "source": [
    "print(animal[\"labels\"].head(3))\n",
    "print(others[\"labels\"].head(3))"
   ]
  },
  {
   "cell_type": "markdown",
   "metadata": {},
   "source": [
    "## 데이터 라벨링"
   ]
  },
  {
   "cell_type": "code",
   "execution_count": 31,
   "metadata": {},
   "outputs": [],
   "source": [
    "animal = pd.DataFrame(animal[\"labels\"])\n",
    "animal[\"category\"] = 1 # sports\n",
    "others = pd.DataFrame(others[\"labels\"])\n",
    "others[\"category\"] = 2 # suffled"
   ]
  },
  {
   "cell_type": "markdown",
   "metadata": {},
   "source": [
    "## train, test셋으로 데이터 분류"
   ]
  },
  {
   "cell_type": "code",
   "execution_count": 35,
   "metadata": {},
   "outputs": [
    {
     "name": "stdout",
     "output_type": "stream",
     "text": [
      "          labels\n",
      "category        \n",
      "1            902\n",
      "2           1093\n",
      "          labels\n",
      "category        \n",
      "1            467\n",
      "2            517\n"
     ]
    },
    {
     "name": "stderr",
     "output_type": "stream",
     "text": [
      "/home/ec2-user/anaconda3/envs/python3/lib/python3.6/site-packages/ipykernel/__main__.py:2: SettingWithCopyWarning: \n",
      "A value is trying to be set on a copy of a slice from a DataFrame.\n",
      "Try using .loc[row_indexer,col_indexer] = value instead\n",
      "\n",
      "See the caveats in the documentation: https://pandas.pydata.org/pandas-docs/stable/user_guide/indexing.html#returning-a-view-versus-a-copy\n",
      "  from ipykernel import kernelapp as app\n"
     ]
    }
   ],
   "source": [
    "data = animal.append(others)\n",
    "train, test = train_test_split(data, test_size=0.33, random_state=42)\n",
    "train[\"category\"] = pd.Categorical(train[\"category\"].values.astype('U'))\n",
    "print(train.groupby(\"category\").count())\n",
    "print(test.groupby(\"category\").count())"
   ]
  },
  {
   "cell_type": "markdown",
   "metadata": {},
   "source": [
    "## SVM으로 모델 학습"
   ]
  },
  {
   "cell_type": "code",
   "execution_count": 50,
   "metadata": {},
   "outputs": [],
   "source": [
    "cv = CountVectorizer()\n",
    "tdm = cv.fit_transform(train[\"labels\"].values.astype('U'))\n",
    "animal_clf = Pipeline([('vect', CountVectorizer()), ('tfidf', TfidfTransformer()), ('clf-svm', SGDClassifier())])\n",
    "animal_clf = animal_clf.fit(train[\"labels\"].values.astype('U'), train[\"category\"].values.astype('U'))"
   ]
  },
  {
   "cell_type": "markdown",
   "metadata": {},
   "source": [
    "## 테스트셋으로 정확도 평가"
   ]
  },
  {
   "cell_type": "code",
   "execution_count": 51,
   "metadata": {},
   "outputs": [
    {
     "name": "stdout",
     "output_type": "stream",
     "text": [
      "0.9654471544715447\n"
     ]
    }
   ],
   "source": [
    "predicted_svm = animal_clf.predict(test[\"labels\"].values.astype('U'))\n",
    "print(np.mean(predicted_svm == test[\"category\"].values.astype('U')))"
   ]
  },
  {
   "cell_type": "markdown",
   "metadata": {},
   "source": [
    "## 모델 저장"
   ]
  },
  {
   "cell_type": "code",
   "execution_count": 54,
   "metadata": {},
   "outputs": [
    {
     "data": {
      "text/plain": [
       "['animal_clf.pkl']"
      ]
     },
     "execution_count": 54,
     "metadata": {},
     "output_type": "execute_result"
    }
   ],
   "source": [
    "joblib.dump(animal_clf, 'animal_clf.pkl')"
   ]
  },
  {
   "cell_type": "markdown",
   "metadata": {},
   "source": [
    "## 분류 테스트"
   ]
  },
  {
   "cell_type": "code",
   "execution_count": 55,
   "metadata": {},
   "outputs": [
    {
     "name": "stdout",
     "output_type": "stream",
     "text": [
      "['2']\n"
     ]
    }
   ],
   "source": [
    "animal_clf = joblib.load('animal_clf.pkl')\n",
    "print(animal_clf.predict(['Shoulder Clothing Streetfashion Handbag Bag Fashion Fashionaccessory Joint Totebag']))"
   ]
  },
  {
   "cell_type": "code",
   "execution_count": null,
   "metadata": {},
   "outputs": [],
   "source": []
  }
 ],
 "metadata": {
  "kernelspec": {
   "display_name": "conda_python3",
   "language": "python",
   "name": "conda_python3"
  },
  "language_info": {
   "codemirror_mode": {
    "name": "ipython",
    "version": 3
   },
   "file_extension": ".py",
   "mimetype": "text/x-python",
   "name": "python",
   "nbconvert_exporter": "python",
   "pygments_lexer": "ipython3",
   "version": "3.6.10"
  }
 },
 "nbformat": 4,
 "nbformat_minor": 4
}
